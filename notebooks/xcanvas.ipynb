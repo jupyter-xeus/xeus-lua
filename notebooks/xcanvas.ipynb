{
 "cells": [
  {
   "cell_type": "code",
   "execution_count": 1,
   "id": "6e2eec80-a129-47de-a4d2-4e2c032fb5fa",
   "metadata": {},
   "outputs": [
    {
     "data": {
      "application/vnd.jupyter.widget-view+json": {
       "model_id": "",
       "version_major": 2,
       "version_minor": 0
      },
      "text/plain": [
       "A Jupyter widget"
      ]
     },
     "metadata": {},
     "output_type": "display_data"
    }
   ],
   "source": [
    "canvas = ilua.canvas.canvas({width=700, height=500})\n",
    "ilua.display.display(canvas)\n",
    "canvas:cache()\n",
    "canvas.shadow_offset_x = 1\n",
    "canvas.shadow_offset_y = 2\n",
    "canvas.shadow_blur = 2\n",
    "canvas.shadow_color = 'black'\n",
    "\n",
    "for var=1,100 do\n",
    "    canvas.fill_style = canvas:rand_color()\n",
    "    canvas:fill_circle(canvas:rand_coord(), math.random(1,10))\n",
    "end\n",
    "canvas:flush()"
   ]
  },
  {
   "cell_type": "code",
   "execution_count": 2,
   "id": "5937ced8-33bb-4437-8645-f776b6878125",
   "metadata": {},
   "outputs": [
    {
     "data": {
      "application/vnd.jupyter.widget-view+json": {
       "model_id": "",
       "version_major": 2,
       "version_minor": 0
      },
      "text/plain": [
       "A Jupyter widget"
      ]
     },
     "metadata": {},
     "output_type": "display_data"
    }
   ],
   "source": [
    "canvas = ilua.canvas.canvas({width=700, height=700})\n",
    "ilua.display.display(canvas)\n",
    "canvas:cache()\n",
    "\n",
    "for var=1,20 do\n",
    "    canvas:begin_path()\n",
    "    canvas:move_to(canvas:rand_coord())\n",
    "    for s=1,5 do\n",
    "        canvas:line_to(canvas:rand_coord())\n",
    "    end\n",
    "    canvas.fill_style = canvas:rand_color()\n",
    "    canvas:fill()\n",
    "end\n",
    "canvas:flush()"
   ]
  },
  {
   "cell_type": "code",
   "execution_count": 3,
   "id": "316fd239-d38f-4f75-81c9-8cb5993532a1",
   "metadata": {},
   "outputs": [
    {
     "data": {
      "application/vnd.jupyter.widget-view+json": {
       "model_id": "",
       "version_major": 2,
       "version_minor": 0
      },
      "text/plain": [
       "A Jupyter widget"
      ]
     },
     "metadata": {},
     "output_type": "display_data"
    }
   ],
   "source": [
    "canvas = ilua.canvas.canvas({width=700, height=700})\n",
    "ilua.display.display(canvas)\n",
    "canvas:cache()\n",
    "canvas.line_width = 2\n",
    "for var=1,100 do\n",
    "    canvas:begin_path()\n",
    "    canvas:move_to(canvas:rand_coord())\n",
    "    for s=1,4 do\n",
    "        canvas:line_to(canvas:rand_coord())\n",
    "    end\n",
    "    canvas.stroke_style = canvas:rand_color()\n",
    "    canvas:stroke()\n",
    "end\n",
    "canvas:flush()"
   ]
  },
  {
   "cell_type": "code",
   "execution_count": 1,
   "id": "bb8cebac-027c-4e7b-a752-fd506dc6a5e6",
   "metadata": {},
   "outputs": [
    {
     "data": {
      "application/vnd.jupyter.widget-view+json": {
       "model_id": "5cfd2c8ad05c4d47870ed47302842cf2",
       "version_major": 2,
       "version_minor": 0
      },
      "text/plain": [
       "A Jupyter widget"
      ]
     },
     "metadata": {},
     "output_type": "display_data"
    }
   ],
   "source": [
    "canvas = ilua.canvas.canvas({width=150, height=150})\n",
    "ilua.display.display(canvas)\n",
    "canvas:cache()\n",
    "canvas.fill_style = \"red\"\n",
    "\n",
    "canvas:begin_path()\n",
    "canvas:move_to({75.0, 40.0})\n",
    "canvas:bezier_curve_to(\n",
    "    {75, 37},\n",
    "    {70, 25},\n",
    "    { 50, 25}\n",
    ")\n",
    "canvas:bezier_curve_to(\n",
    "    {20, 25},\n",
    "    {20, 62.5},\n",
    "    {20, 62.5}\n",
    ")\n",
    "canvas:bezier_curve_to(\n",
    "    {20, 80},\n",
    "    {40, 102},\n",
    "    {75, 120}\n",
    ")\n",
    "canvas:bezier_curve_to(\n",
    "    {110, 102},\n",
    "    {130, 80},\n",
    "    {130, 62.5}\n",
    ")\n",
    "canvas:bezier_curve_to(\n",
    "    {130, 62.5,},\n",
    "    {130, 25},\n",
    "    {100, 25}\n",
    ")\n",
    "canvas:bezier_curve_to(\n",
    "    {85, 25},\n",
    "    {75, 37},\n",
    "    {75, 40}\n",
    ")\n",
    "canvas:fill()\n",
    "canvas:flush()"
   ]
  }
 ],
 "metadata": {
  "kernelspec": {
   "display_name": "Lua  (XLua)",
   "language": "lua",
   "name": "xlua"
  },
  "language_info": {
   "file_extension": ".lua",
   "mimetype": "text/x-luasrc",
   "name": "lua",
   "version": "14.0.0"
  }
 },
 "nbformat": 4,
 "nbformat_minor": 5
}
