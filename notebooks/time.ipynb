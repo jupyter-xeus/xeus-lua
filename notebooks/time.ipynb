{
 "cells": [
  {
   "cell_type": "code",
   "execution_count": 18,
   "id": "f2bec435-a52d-4566-bed3-7ac244df761a",
   "metadata": {},
   "outputs": [
    {
     "name": "stdout",
     "output_type": "stream",
     "text": [
      "iter 1 delta 0.00648 \n",
      "iter 2 delta 99.85152 \n",
      "iter 3 delta 199.668408 \n",
      "iter 4 delta 299.511165 \n",
      "iter 5 delta 399.327927 \n",
      "iter 6 delta 499.171256 \n",
      "iter 7 delta 598.994293 \n",
      "iter 8 delta 698.768575 \n",
      "iter 9 delta 799.353711 \n",
      "iter 10 delta 899.122695 \n",
      "expected d ms 1000.0 total_dutation 998.952393 detla 1.047607 \n"
     ]
    }
   ],
   "source": [
    "-- call function 3 times each 1000 ms\n",
    "d_ms = 100.0\n",
    "n = 10\n",
    "total_duration = ilua.time.duration_ms(function()\n",
    "        \n",
    "    ilua.time.scheduled_ms(n, d_ms, function(iter, delta)\n",
    "    print(\"iter\", iter, \"delta\", delta)\n",
    "    end)\n",
    "end)\n",
    "expected_ms = d_ms * n\n",
    "delta = math.abs(expected_ms - total_duration)\n",
    "print(\"expected d ms\", expected_ms, \"total_dutation\", total_duration, \"detla\", delta)"
   ]
  },
  {
   "cell_type": "code",
   "execution_count": 14,
   "id": "fd62b27b-db31-41ec-b5ba-65add8891e99",
   "metadata": {},
   "outputs": [
    {
     "name": "stdout",
     "output_type": "stream",
     "text": [
      "iter 1 delta 0.1356 \n",
      "iter 2 delta 41.960821 \n",
      "iter 3 delta 83.957019 \n",
      "iter 4 delta 125.652845 \n",
      "iter 5 delta 167.500203 \n",
      "iter 6 delta 209.246108 \n",
      "iter 7 delta 251.393794 \n",
      "iter 8 delta 293.099747 \n",
      "iter 9 delta 334.940338 \n",
      "iter 10 delta 376.381527 \n",
      "iter 11 delta 418.194881 \n",
      "iter 12 delta 459.877785 \n",
      "iter 13 delta 501.693665 \n",
      "iter 14 delta 543.381427 \n",
      "iter 15 delta 585.218541 \n",
      "iter 16 delta 626.978584 \n",
      "iter 17 delta 668.73826 \n",
      "iter 18 delta 710.427573 \n",
      "iter 19 delta 752.142025 \n",
      "iter 20 delta 793.896798 \n",
      "iter 21 delta 835.721084 \n",
      "iter 22 delta 877.473396 \n",
      "iter 23 delta 919.317671 \n",
      "iter 24 delta 960.997669 \n",
      "expected d ms 1000.0 total_dutation 1002.728491 detla 2.728491 \n"
     ]
    }
   ],
   "source": [
    "-- call function 100 times with 24 fps\n",
    "fps = 24.0\n",
    "n = 24\n",
    "total_duration = ilua.time.duration_ms(function()\n",
    "        \n",
    "    ilua.time.scheduled_fps(n, fps, function(iter, delta)\n",
    "        print(\"iter\", iter, \"delta\",delta)\n",
    "    end)\n",
    "        \n",
    "end)\n",
    "expected_ms = (1000.0/fps) * n\n",
    "delta = math.abs(expected_ms - total_duration)\n",
    "print(\"expected d ms\", expected_ms, \"total_dutation\", total_duration, \"detla\", math.abs(expected_ms - total_duration))"
   ]
  },
  {
   "cell_type": "code",
   "execution_count": null,
   "id": "f03acca5-9fbb-442a-89a3-0a9f3955bf9d",
   "metadata": {},
   "outputs": [],
   "source": []
  }
 ],
 "metadata": {
  "kernelspec": {
   "display_name": "Lua  (XLua)",
   "language": "lua",
   "name": "xlua"
  },
  "language_info": {
   "file_extension": ".lua",
   "mimetype": "text/x-luasrc",
   "name": "lua",
   "version": "14.0.0"
  }
 },
 "nbformat": 4,
 "nbformat_minor": 5
}
